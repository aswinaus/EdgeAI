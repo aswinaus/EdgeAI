{
  "nbformat": 4,
  "nbformat_minor": 0,
  "metadata": {
    "colab": {
      "machine_shape": "hm",
      "gpuType": "A100",
      "provenance": [],
      "include_colab_link": true
    },
    "accelerator": "GPU",
    "kaggle": {
      "accelerator": "gpu"
    },
    "language_info": {
      "name": "python"
    },
    "kernelspec": {
      "name": "python3",
      "display_name": "Python 3"
    }
  },
  "cells": [
    {
      "cell_type": "markdown",
      "metadata": {
        "id": "view-in-github",
        "colab_type": "text"
      },
      "source": [
        "<a href=\"https://colab.research.google.com/github/aswinaus/EdgeAI/blob/main/NVIDIA_Nemotron_Nano_12B_v2.ipynb\" target=\"_parent\"><img src=\"https://colab.research.google.com/assets/colab-badge.svg\" alt=\"Open In Colab\"/></a>"
      ]
    },
    {
      "cell_type": "code",
      "source": [
        "!pip install -U transformers"
      ],
      "metadata": {
        "id": "ZEHqxBXN27bE"
      },
      "execution_count": null,
      "outputs": []
    },
    {
      "cell_type": "code",
      "metadata": {
        "id": "5b552cef"
      },
      "source": [
        "!pip install mamba-ssm"
      ],
      "execution_count": null,
      "outputs": []
    },
    {
      "cell_type": "code",
      "source": [
        "# Load model directly\n",
        "from transformers import AutoModel\n",
        "model = AutoModel.from_pretrained(\"nvidia/NVIDIA-Nemotron-Nano-12B-v2\", torch_dtype=\"auto\")"
      ],
      "metadata": {
        "id": "9JDpV5tM27bJ"
      },
      "execution_count": null,
      "outputs": []
    },
    {
      "cell_type": "code",
      "source": [
        "# Use a pipeline as a high-level helper\n",
        "from transformers import pipeline\n",
        "\n",
        "pipe = pipeline(\"text-generation\", model=\"nvidia/NVIDIA-Nemotron-Nano-12B-v2\")\n",
        "messages = [\n",
        "    {\"role\": \"user\", \"content\": \"Who are you?\"},\n",
        "]\n",
        "pipe(messages)"
      ],
      "metadata": {
        "id": "xtEDagCN27bH"
      },
      "execution_count": null,
      "outputs": []
    },
    {
      "cell_type": "code",
      "metadata": {
        "id": "447829c3"
      },
      "source": [
        "# Use a pipeline as a high-level helper\n",
        "from transformers import pipeline, AutoModelForCausalLM\n",
        "\n",
        "pipe = pipeline(\"text-generation\", model=\"nvidia/NVIDIA-Nemotron-Nano-12B-v2\", trust_remote_code=True)\n",
        "messages = [\n",
        "    {\"role\": \"user\", \"content\": \"Who are you?\"},\n",
        "]\n",
        "pipe(messages)"
      ],
      "execution_count": null,
      "outputs": []
    }
  ]
}